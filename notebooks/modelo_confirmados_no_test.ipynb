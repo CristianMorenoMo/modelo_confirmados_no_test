{
 "cells": [
  {
   "cell_type": "code",
   "execution_count": 1,
   "metadata": {},
   "outputs": [],
   "source": [
    "import pandas as pd \n",
    "import numpy as np\n",
    "import os\n",
    "from os import scandir, getcwd\n",
    "from datetime import date, datetime\n",
    "import datetime\n",
    "import matplotlib.pyplot as plt\n",
    "import seaborn as sns\n",
    "from statsmodels.nonparametric.kernel_regression import KernelReg\n",
    "from sklearn.model_selection import train_test_split\n",
    "from sklearn.linear_model import LinearRegression\n",
    "from scipy.stats import shapiro, bartlett\n",
    "from sklearn.model_selection import train_test_split\n",
    "from statsmodels.stats.stattools import durbin_watson\n",
    "from statsmodels.tsa.stattools import adfuller\n",
    "path=os.path.normpath(os.getcwd() + os.sep + os.pardir)\n",
    "path = os.path.normpath(path + os.sep + os.pardir)"
   ]
  },
  {
   "cell_type": "code",
   "execution_count": 2,
   "metadata": {},
   "outputs": [],
   "source": [
    "### Functions \n",
    "def f_ls(ruta):\n",
    "    return [arch.name for arch in scandir(ruta) if arch.is_file()]\n",
    "\n",
    "def f_read_csv(x):\n",
    "    'x es un path string'\n",
    "    path_inf_mds= path + x \n",
    "    inf_diary_mds=[i for i in f_ls(path_inf_mds) if ('.csv' in i)]\n",
    "    df=pd.DataFrame()\n",
    "    for i in inf_diary_mds:\n",
    "        df=pd.concat([df,pd.read_csv(path_inf_mds + i ,sep='|')],axis=0,sort=False)\n",
    "    if df.columns.isin(['date']).any():\n",
    "        df.date=pd.DatetimeIndex(df.date).date\n",
    "    return df\n",
    "\n",
    "def week_month(x):\n",
    "    day_of_month = x.day\n",
    "    week_number = (day_of_month - 1) // 7 + 1\n",
    "    return week_number\n",
    "\n",
    "def label_point(x, y, val, ax):\n",
    "    a = pd.concat({'x': x, 'y': y, 'val': val}, axis=1)\n",
    "    for i, point in a.iterrows():\n",
    "        ax.text(point['x']+.02, point['y'], str(point['val']))"
   ]
  },
  {
   "cell_type": "markdown",
   "metadata": {},
   "source": [
    "# Estimación de casos indectados por no test Covid 19"
   ]
  },
  {
   "cell_type": "markdown",
   "metadata": {},
   "source": [
    "## Metodología "
   ]
  },
  {
   "cell_type": "markdown",
   "metadata": {},
   "source": [
    "Objetivo: Estimar  la probabilidad de infectados dado al no testeo.\n",
    "\n",
    "$$P(infected|notTested) = \\frac {P(notTested|infected)×P(infected)}{P(notTested)}$$\n",
    "\n",
    "donde,\n",
    "\n",
    "* P(notTested|infected): Probabilidad de no test  en personas que están infectadas o  porcentaje  de personas no testeadas  pero infectadas.\n",
    "* P(infected): Porcentaje de infectados en la población.\n",
    "* P(notTested): Porcentajes de población no testeada.\n",
    "\n",
    "Para estimar P(notTested|infected) se asume que todos los países siguen la misma relación de potencia (polinomio de grado 2) para los casos confirmados dado test y  no test.\n",
    "\n",
    "$$P(notTested|infected) = \\frac{notTested} {\\alpha (notTested)^\\beta}$$\n",
    "\n",
    "Sin embargo, la suposición es frágil a cambios constantes en los datos.\n",
    "\n",
    "Pasos."
   ]
  },
  {
   "cell_type": "markdown",
   "metadata": {},
   "source": [
    "## 1.  Seleccionar los países y cargar datos.\n",
    "## Supuestos para la selección  de periodos y países\n",
    "  * Argentina debe tener presencia de test en una semana dada.\n",
    "  * La relación de casos confirmados dado los test es  un polinomio de segundo grado.\n",
    "### Limpieza y unificando información test y confirmados"
   ]
  },
  {
   "cell_type": "code",
   "execution_count": 3,
   "metadata": {},
   "outputs": [],
   "source": [
    "# Datos\n",
    "df_global_cases = f_read_csv('/sources/jhu_cases/cases/')\n",
    "test = f_read_csv('/sources/owid_testing/testing/')\n",
    "poblacion = f_read_csv('/sources/worldmeters_global_population/data/')\n",
    "# Paises\n",
    "paises=['Argentina','Chile','Uruguay','El Salvador','Colombia','Paraguay'\n",
    "        #,'Peru'\n",
    "        ,'Bolivia']\n",
    "df=df_global_cases[(df_global_cases.country.isin(paises)) & (df_global_cases.province=='Total')]\n",
    "df=df.assign(semana=df.date.apply(lambda x: x.isocalendar()[1]))\n",
    "df['month']=df.date.apply(lambda x: x.strftime(\"%b\"))\n",
    "df['semana_mes']=df.date.apply(week_month)\n",
    "df['fecha']=df.month+'-'+df.semana_mes.astype(str)\n",
    "df_semana=df.groupby(['fecha','country','province']).agg({\n",
    "                                           'total_acum_confirmed':'max'\n",
    "                                            , 'date': 'max'\n",
    "                                           })\n",
    "df_semana=df_semana.reset_index()\n",
    "df_semana=df_semana.rename(columns={'country':'pais'})\n",
    "df_test=test[test.country.isin(paises)]\n",
    "df_test=df_test.assign(date=pd.to_datetime(df_test.date,format='%Y-%m-%d'))\n",
    "df_test=df_test.assign(semana=df_test.date.apply(lambda x: x.isocalendar()[1]))\n",
    "df_test['month']=df_test.date.apply(lambda x: x.strftime(\"%b\"))\n",
    "df_test['semana_mes']=df_test.date.apply(week_month)\n",
    "df_test['fecha']=df_test.month+'-'+df_test.semana_mes.astype(str)\n",
    "df_semana_test=df_test.groupby(['fecha','country']).agg({'new_daily_test':'sum',\n",
    "                                                         'total_acum_test':'max'\n",
    "                                                        , 'date': 'max'}).reset_index()\n",
    "df_semana_test=df_semana_test.rename(columns={'country':'pais'})\n",
    "df_merge=pd.merge(df_semana, df_semana_test, how='left', on=['fecha', 'pais'],suffixes=('', '_r'))\n",
    "list_temp = [element for element in df_merge.date.unique() if element >= datetime.date(2020, 4, 1) ]\n",
    "fechas= df_merge[df_merge.date.isin(list_temp)].fecha.unique()\n",
    "temp_dates_arg_with_test =  df_merge[(df_merge.pais=='Argentina') &\\\n",
    "                            (df_merge.total_acum_test >0)].fecha.unique().tolist()\n",
    "df_paises_para_modelo = df_merge[df_merge.fecha.isin(temp_dates_arg_with_test) ]\n",
    "del temp_dates_arg_with_test"
   ]
  },
  {
   "cell_type": "markdown",
   "metadata": {},
   "source": [
    "## 2. Estimar los parámetros $\\alpha$ y  $\\beta$ \n",
    "\n",
    "* Aplicación de una regresión lineal (de grado dos con respecto al número de test ) como valor inicial."
   ]
  },
  {
   "cell_type": "code",
   "execution_count": 4,
   "metadata": {},
   "outputs": [],
   "source": [
    "def f_grafico_apriori_regresion(aux):\n",
    "    '''Funcion para graficar el diagrama de puntos del que se va a ajustar la regresion\n",
    "    Parametros\n",
    "     aux = dataset de un pais con una semana predeterminada'''\n",
    "    sns.set(rc={'figure.figsize':(15,9)})\n",
    "    sns.scatterplot(x=\"total_acum_test\", y=\"total_acum_confirmed\", data=aux)\n",
    "    label_point(aux.total_acum_test, aux.total_acum_confirmed, aux.pais, plt.gca())\n",
    "    plt.xlabel('Test por millon')\n",
    "    plt.ylabel('Confirmado por millon')\n",
    "    plt.show()\n",
    "def f_regresion(aux):\n",
    "    '''Funcion que calcula una regresion lineal, con grado 2 para el numero de test por millon\n",
    "    Los parametros es un unico dataset ajustado para una semana'''\n",
    "    ###Regresion\n",
    "    linearRegressor = LinearRegression()\n",
    "    x=(np.array(np.power(aux.total_acum_test,2))).reshape((-1,1))\n",
    "    y=(aux.total_acum_confirmed).values\n",
    "    f=linearRegressor.fit(x,y)\n",
    "    \n",
    "    stat, p = shapiro( y-f.predict(x))\n",
    "    p  = 'True' if p >0.05 else 'False'\n",
    "    # test de homocedasticidad\n",
    "    train , test = train_test_split(y-f.predict(x) , test_size =0.5)\n",
    "    test =bartlett(train, test)\n",
    "    test = 'True' if test[1] > 0.05 else 'False' \n",
    "    # test de independencia \n",
    "    durbinWatson = durbin_watson( y-f.predict(x))\n",
    "    # se incremento el limite para identificar independencia para flexibilizar el estadistico\n",
    "    durbinWatson = 'True' if (durbinWatson>=1.5) & (durbinWatson<= 3) else 'False' \n",
    "     \n",
    "        \n",
    "    ecm = [np.power(x - y,2) for x, y in zip(y,f.predict(x))] \n",
    "    ecm = sum(ecm) / len(ecm)\n",
    "    #return f, f.predict(x), f.coef_, f.intercept_, y-f.predict(x) , f.score(x, y) ,p, test,durbinWatson\n",
    "    return  f.intercept_,f.coef_[0],  f.score(x, y) ,p, test,durbinWatson\n",
    "def calc_ecm ( aux, result_):\n",
    "    '''Calculo del error cuadratico medio para el caso en el que no aplique los supuestos de la regresion\n",
    "     y asi seleccionar una relacion funcional para estimar'''\n",
    "    x=(np.array(np.power(aux.total_acum_test,2))).reshape((-1,1))\n",
    "    y=(aux.total_acum_confirmed).values\n",
    "    b0 = result_[0]\n",
    "    b1 = result_[1]\n",
    "    for b0i in np.arange(b0*0.9, b0*1.1, b0*.001).tolist():\n",
    "        for b1i in np.arange(b1*0.9, b1*1.1, b1*.001).tolist():\n",
    "            y_ = b0i + b1i*x\n",
    "            ecm = [np.power(x - y,2) for x, y in zip(y.tolist(), y_)] \n",
    "            ecm = sum(ecm) / len(ecm)\n",
    "            if (b1i == b1*0.9) & (b0i == b0*0.9) :\n",
    "                result = [b0i, b1i, ecm[0]]\n",
    "            elif result[2]> ecm[0]:\n",
    "                result = [b0i, b1i, ecm[0]]\n",
    "    return result"
   ]
  },
  {
   "cell_type": "code",
   "execution_count": 5,
   "metadata": {
    "scrolled": false
   },
   "outputs": [
    {
     "name": "stdout",
     "output_type": "stream",
     "text": [
      "CPU times: user 21 s, sys: 0 ns, total: 21 s\n",
      "Wall time: 21.3 s\n"
     ]
    },
    {
     "data": {
      "text/html": [
       "<div>\n",
       "<style scoped>\n",
       "    .dataframe tbody tr th:only-of-type {\n",
       "        vertical-align: middle;\n",
       "    }\n",
       "\n",
       "    .dataframe tbody tr th {\n",
       "        vertical-align: top;\n",
       "    }\n",
       "\n",
       "    .dataframe thead th {\n",
       "        text-align: right;\n",
       "    }\n",
       "</style>\n",
       "<table border=\"1\" class=\"dataframe\">\n",
       "  <thead>\n",
       "    <tr style=\"text-align: right;\">\n",
       "      <th></th>\n",
       "      <th>Apr-1</th>\n",
       "      <th>Apr-2</th>\n",
       "      <th>Apr-3</th>\n",
       "      <th>Apr-4</th>\n",
       "      <th>Apr-5</th>\n",
       "      <th>May-1</th>\n",
       "      <th>May-2</th>\n",
       "      <th>May-3</th>\n",
       "      <th>May-4</th>\n",
       "      <th>May-5</th>\n",
       "    </tr>\n",
       "  </thead>\n",
       "  <tbody>\n",
       "    <tr>\n",
       "      <th>b0</th>\n",
       "      <td>580.417</td>\n",
       "      <td>622.016</td>\n",
       "      <td>703.821</td>\n",
       "      <td>907.849</td>\n",
       "      <td>931.107</td>\n",
       "      <td>1292.1</td>\n",
       "      <td>1854.69</td>\n",
       "      <td>2440.95</td>\n",
       "      <td>2768.88</td>\n",
       "      <td>2177.44</td>\n",
       "    </tr>\n",
       "    <tr>\n",
       "      <th>b1</th>\n",
       "      <td>1.37993e-06</td>\n",
       "      <td>9.69476e-07</td>\n",
       "      <td>6.89346e-07</td>\n",
       "      <td>4.9961e-07</td>\n",
       "      <td>4.72613e-07</td>\n",
       "      <td>3.97243e-07</td>\n",
       "      <td>3.36871e-07</td>\n",
       "      <td>3.05967e-07</td>\n",
       "      <td>2.9575e-07</td>\n",
       "      <td>3.05562e-07</td>\n",
       "    </tr>\n",
       "    <tr>\n",
       "      <th>r2</th>\n",
       "      <td>0.904517</td>\n",
       "      <td>0.947153</td>\n",
       "      <td>0.965001</td>\n",
       "      <td>0.97172</td>\n",
       "      <td>0.976416</td>\n",
       "      <td>0.984462</td>\n",
       "      <td>0.986148</td>\n",
       "      <td>0.988534</td>\n",
       "      <td>0.983295</td>\n",
       "      <td>0.99095</td>\n",
       "    </tr>\n",
       "    <tr>\n",
       "      <th>test_normal</th>\n",
       "      <td>False</td>\n",
       "      <td>False</td>\n",
       "      <td>False</td>\n",
       "      <td>True</td>\n",
       "      <td>True</td>\n",
       "      <td>True</td>\n",
       "      <td>True</td>\n",
       "      <td>True</td>\n",
       "      <td>True</td>\n",
       "      <td>True</td>\n",
       "    </tr>\n",
       "    <tr>\n",
       "      <th>test_homo</th>\n",
       "      <td>True</td>\n",
       "      <td>True</td>\n",
       "      <td>True</td>\n",
       "      <td>True</td>\n",
       "      <td>True</td>\n",
       "      <td>True</td>\n",
       "      <td>True</td>\n",
       "      <td>True</td>\n",
       "      <td>True</td>\n",
       "      <td>True</td>\n",
       "    </tr>\n",
       "    <tr>\n",
       "      <th>test_ind</th>\n",
       "      <td>True</td>\n",
       "      <td>False</td>\n",
       "      <td>False</td>\n",
       "      <td>False</td>\n",
       "      <td>False</td>\n",
       "      <td>False</td>\n",
       "      <td>False</td>\n",
       "      <td>False</td>\n",
       "      <td>False</td>\n",
       "      <td>False</td>\n",
       "    </tr>\n",
       "  </tbody>\n",
       "</table>\n",
       "</div>"
      ],
      "text/plain": [
       "                   Apr-1        Apr-2        Apr-3       Apr-4        Apr-5  \\\n",
       "b0               580.417      622.016      703.821     907.849      931.107   \n",
       "b1           1.37993e-06  9.69476e-07  6.89346e-07  4.9961e-07  4.72613e-07   \n",
       "r2              0.904517     0.947153     0.965001     0.97172     0.976416   \n",
       "test_normal        False        False        False        True         True   \n",
       "test_homo           True         True         True        True         True   \n",
       "test_ind            True        False        False       False        False   \n",
       "\n",
       "                   May-1        May-2        May-3       May-4        May-5  \n",
       "b0                1292.1      1854.69      2440.95     2768.88      2177.44  \n",
       "b1           3.97243e-07  3.36871e-07  3.05967e-07  2.9575e-07  3.05562e-07  \n",
       "r2              0.984462     0.986148     0.988534    0.983295      0.99095  \n",
       "test_normal         True         True         True        True         True  \n",
       "test_homo           True         True         True        True         True  \n",
       "test_ind           False        False        False       False        False  "
      ]
     },
     "execution_count": 5,
     "metadata": {},
     "output_type": "execute_result"
    }
   ],
   "source": [
    "%%time\n",
    "resultados_modelo = pd.DataFrame()\n",
    "simulacion_modelos = pd.DataFrame()\n",
    "for fecha in fechas:\n",
    "    aux =  df_paises_para_modelo[ (df_paises_para_modelo.fecha == fecha) &\n",
    "                           ( ~df_paises_para_modelo.total_acum_test.isna()) &\n",
    "                      ( ~df_paises_para_modelo.total_acum_confirmed.isna())]\n",
    "    resultados_modelo[fecha] = f_regresion(aux)\n",
    "    simulacion_modelos[fecha] = calc_ecm ( aux, f_regresion(aux))\n",
    "    del aux\n",
    "resultados_modelo.index = ['b0', 'b1', 'r2', 'test_normal', 'test_homo', 'test_ind']\n",
    "simulacion_modelos.index = ['b0', 'b1', 'ecm']\n",
    "resultados_modelo"
   ]
  },
  {
   "cell_type": "markdown",
   "metadata": {},
   "source": [
    "## 3. Calcular la probabilidad:\n",
    "\n",
    "* P(infected)\n",
    "* P(notTested)\n",
    "* P(noTest) \n",
    "* P(notTested|infected)"
   ]
  },
  {
   "cell_type": "code",
   "execution_count": 6,
   "metadata": {},
   "outputs": [],
   "source": [
    "poblacion=poblacion.rename(columns= {'country':'pais'})\n",
    "df_poblacion=pd.merge(df_merge, poblacion, how='left', on=['pais'],suffixes=('', '_r'))\n",
    "df_poblacion=df_poblacion[['fecha', 'pais', 'province', 'total_acum_confirmed', 'new_daily_test',\n",
    "       'total_acum_test','population']]"
   ]
  },
  {
   "cell_type": "code",
   "execution_count": 7,
   "metadata": {},
   "outputs": [],
   "source": [
    "# Limpieza \n",
    "poblacion=poblacion.rename(columns= {'country':'pais'})\n",
    "df_poblacion=pd.merge(df_merge, poblacion, how='left', on=['pais'],suffixes=('', '_r'))\n",
    "df_poblacion=df_poblacion[['fecha', 'pais', 'province', 'total_acum_confirmed', 'new_daily_test',\n",
    "       'total_acum_test','population']]\n",
    "df_poblacion['no_test']= df_poblacion.population - df_poblacion.total_acum_test\n",
    "# Ajuste pronosticos \n",
    "tabla_probabilidad=pd.DataFrame()\n",
    "tabla_probabilidad['fecha']=df_poblacion.fecha\n",
    "tabla_probabilidad['pais']=df_poblacion.pais\n",
    "tabla_probabilidad['p(infect)']=df_poblacion.total_acum_confirmed / df_poblacion.population\n",
    "tabla_probabilidad['p(no_test)']= (df_poblacion.total_acum_test/df_poblacion.population)\n",
    "tabla_probabilidad['(no_test)']=df_poblacion['no_test']\n",
    "tabla_probabilidad['poblacion']=df_poblacion.population\n",
    "tabla_probabilidad_argentina=tabla_probabilidad#[tabla_probabilidad.pais=='Argentina']\n",
    "simulacion_modelos_trans=simulacion_modelos.T.reset_index()\n",
    "simulacion_modelos_trans=simulacion_modelos_trans.rename(columns={'index':'fecha'})\n",
    "final=pd.merge(tabla_probabilidad_argentina, simulacion_modelos_trans, how='left', on=['fecha'],suffixes=('', '_r'))"
   ]
  },
  {
   "cell_type": "markdown",
   "metadata": {},
   "source": [
    "## 4. Calcular y expandir la probabilidad en la población.\n",
    "$$ P(infected|notTested)$$\n"
   ]
  },
  {
   "cell_type": "code",
   "execution_count": 8,
   "metadata": {
    "scrolled": true
   },
   "outputs": [],
   "source": [
    "final['p(no_test/infectados)']=final['(no_test)']/(final.b0 + final.b1*np.power(final['(no_test)'],2))\n",
    "final['p(infectado/no_test)']=(final['p(no_test/infectados)'] * final['p(infect)'])/(final['p(no_test)'])\n",
    "final['estimacion_x_millon']=((final['p(infectado/no_test)']*final.poblacion)/final.poblacion)*1000000"
   ]
  },
  {
   "cell_type": "code",
   "execution_count": 12,
   "metadata": {
    "scrolled": true
   },
   "outputs": [
    {
     "data": {
      "image/png": "[encoded data removed]",
      "text/plain": [
       "<Figure size 1080x360 with 1 Axes>"
      ]
     },
     "metadata": {},
     "output_type": "display_data"
    }
   ],
   "source": [
    "df_estimacion=pd.merge(final, df_poblacion, how='left', on=['fecha','pais'],suffixes=('', '_r'))\n",
    "df_estimacion=df_estimacion[['fecha', 'pais', 'population','estimacion_x_millon', 'province','total_acum_test']]\n",
    "df_estimacion['test_x_millones']=(df_estimacion.total_acum_test / df_estimacion.population) *1000000\n",
    "fecha=df_estimacion.iloc[len(df_estimacion)-1,:]['fecha']\n",
    "plot=(df_estimacion[df_estimacion.fecha==fecha]).dropna()\n",
    "sns.set(rc={'figure.figsize':(15,5)})\n",
    "sns.scatterplot(x=\"test_x_millones\", y=\"estimacion_x_millon\", data=plot)\n",
    "label_point(plot.test_x_millones, plot.estimacion_x_millon, plot.pais, plt.gca())\n",
    "plt.xlabel('Test por millon')\n",
    "plt.ylabel('Casos indetectados')\n",
    "plt.title('Estimación de los infectados acumulados para la semana ' + fecha)\n",
    "plt.show()"
   ]
  },
  {
   "cell_type": "code",
   "execution_count": 10,
   "metadata": {
    "scrolled": true
   },
   "outputs": [],
   "source": [
    "aux = os.path.normpath(os.getcwd() + os.sep  + os.pardir)\n",
    "aux = os.path.normpath(aux + os.sep + os.pardir)\n",
    "\n",
    "tabla_probabilidad_argentina=final[final.pais=='Argentina']\n",
    "tabla_probabilidad_argentina.to_csv(path + '/notebooks/Power Bi/dataset/pronosticos.csv'\n",
    "              , sep='|'\n",
    "             , index = False)\n",
    "df_estimacion.to_csv(path + '/notebooks/Power Bi/dataset/estimacion_paises.csv'\n",
    "              , sep='|'\n",
    "             , index = False)"
   ]
  }
 ],
 "metadata": {
  "kernelspec": {
   "display_name": "Python 3",
   "language": "python",
   "name": "python3"
  },
  "language_info": {
   "codemirror_mode": {
    "name": "ipython",
    "version": 3
   },
   "file_extension": ".py",
   "mimetype": "text/x-python",
   "name": "python",
   "nbconvert_exporter": "python",
   "pygments_lexer": "ipython3",
   "version": "3.7.9"
  }
 },
 "nbformat": 4,
 "nbformat_minor": 4
}
